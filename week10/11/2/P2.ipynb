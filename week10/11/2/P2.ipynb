{
 "cells": [
  {
   "cell_type": "code",
   "execution_count": null,
   "metadata": {},
   "outputs": [],
   "source": [
    "class Solution:\n",
    "    def stoneGameIX(self, stones: list[int]) -> bool:\n",
    "        # 돌을 나머지에 따라 그룹화\n",
    "        remainder_count = [0, 0, 0]\n",
    "        for stone in stones:\n",
    "            remainder_count[stone % 3] += 1\n",
    "\n",
    "        # 나머지가 0인 돌은 무조건 짝수 개여야 이길 수 있음\n",
    "        if remainder_count[0] % 2 == 0:\n",
    "            return remainder_count[1] > 0 and remainder_count[2] > 0\n",
    "        else:\n",
    "            return abs(remainder_count[1] - remainder_count[2]) > 2\n",
    "\n",
    "# remainder_count는 돌을 3으로 나눈 나머지가 각각 0, 1, 2인 돌의 개수를 저장합니다.\n",
    "# Alice가 승리 조건을 만족하는지 확인:\n",
    "# 나머지가 0인 돌이 짝수 개일 경우, Alice가 이길 수 있으려면 나머지가 1인 돌과 나머지가 2인 돌이 모두 있어야 합니다.\n",
    "# 나머지가 0인 돌이 홀수 개일 경우, Alice가 이기려면 나머지 1과 2인 돌의 개수 차이가 2 이상이어야 합니다.\n",
    "\n",
    "#[2, 2, 2, 1, 1]\n",
    "#위 상황은 나눠떨어지는게 0개(짝수)\n",
    "#엘리스는 1,2중 적은걸 먼저 고르면 이김\n",
    "\n",
    "#[2, 1, 2, 1, 3]\n",
    "#이렇게 3의 배수 1개이면 1이랑 2가 2개 이상 차이나야 다시 짝수인것과 같은 효과\n",
    "#즉, 이런 상황에선 alice가 뭘 먼저 선택해도 밥이 턴을 넘기면서 역전됨\n"
   ]
  }
 ],
 "metadata": {
  "language_info": {
   "name": "python"
  }
 },
 "nbformat": 4,
 "nbformat_minor": 2
}
