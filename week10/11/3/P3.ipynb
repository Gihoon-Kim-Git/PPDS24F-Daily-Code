{
 "cells": [
  {
   "cell_type": "code",
   "execution_count": 2,
   "metadata": {},
   "outputs": [],
   "source": [
    "class Solution:\n",
    "    def exist(self, board: list[list[str]], word: str) -> bool:\n",
    "        def dfs(x, y, pos):\n",
    "            # 단어의 끝에 도달하면 True, valid하지 않은 값이면 False 반환 \n",
    "            if pos == len(word):\n",
    "                return True\n",
    "            if x < 0 or x >= len(board) or y < 0 or y >= len(board[0]) or board[x][y] != word[pos] or visited[x][y]:\n",
    "                return False\n",
    "            \n",
    "            # 단어의 중간인 경우, 방문 표시\n",
    "            visited[x][y] = True\n",
    "            \n",
    "            # 그 이웃 값들에 대해 dfs\n",
    "            for dx, dy in [(1,0), (-1,0), (0,1), (0,-1)]:\n",
    "                if dfs(x + dx, y + dy, pos + 1):\n",
    "                    return True\n",
    "            \n",
    "            # 해당 x,y에서 경로 못 찾았으면 다시 False로 바꿔줌 (백트래킹)\n",
    "            visited[x][y] = False\n",
    "            return False\n",
    "\n",
    "        # 첫 글자가 같을 때 visited 초기화하면서 시작\n",
    "        for i in range(len(board)):\n",
    "            for j in range(len(board[0])):\n",
    "                if board[i][j] == word[0]:\n",
    "                    visited = [[False] * len(board[0]) for _ in range(len(board))]\n",
    "                    if dfs(i, j, 0):\n",
    "                        return True\n",
    "        return False\n"
   ]
  },
  {
   "cell_type": "code",
   "execution_count": 3,
   "metadata": {},
   "outputs": [
    {
     "data": {
      "text/plain": [
       "True"
      ]
     },
     "execution_count": 3,
     "metadata": {},
     "output_type": "execute_result"
    }
   ],
   "source": [
    "a = [[\"A\",\"B\",\"C\",\"E\"],[\"S\",\"F\",\"C\",\"S\"],[\"A\",\"D\",\"E\",\"E\"]]\n",
    "s = Solution()\n",
    "s.exist(a, \"SEE\")"
   ]
  },
  {
   "cell_type": "code",
   "execution_count": null,
   "metadata": {},
   "outputs": [],
   "source": []
  }
 ],
 "metadata": {
  "kernelspec": {
   "display_name": "zeus",
   "language": "python",
   "name": "python3"
  },
  "language_info": {
   "codemirror_mode": {
    "name": "ipython",
    "version": 3
   },
   "file_extension": ".py",
   "mimetype": "text/x-python",
   "name": "python",
   "nbconvert_exporter": "python",
   "pygments_lexer": "ipython3",
   "version": "3.11.5"
  }
 },
 "nbformat": 4,
 "nbformat_minor": 2
}
