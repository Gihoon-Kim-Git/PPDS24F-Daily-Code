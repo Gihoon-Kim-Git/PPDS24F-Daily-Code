{
 "cells": [
  {
   "cell_type": "code",
   "execution_count": 7,
   "metadata": {},
   "outputs": [],
   "source": [
    "# max_sum 이하로만 남게 K개로 쪼갤 수 있는지 체크하는 함수\n",
    "def can_split(nums, max_sum, K):\n",
    "    current_sum = 0\n",
    "    subarrays = 1\n",
    "    for num in nums:\n",
    "        if current_sum + num > max_sum:\n",
    "            subarrays += 1\n",
    "            current_sum = num\n",
    "            if subarrays > K:\n",
    "                return False\n",
    "        else:\n",
    "            current_sum += num\n",
    "    return True\n",
    "\n",
    "def solution(K, M, A):\n",
    "    left, right = M, sum(A)\n",
    "    result = right\n",
    "    while left <= right:\n",
    "        mid = (left + right) // 2\n",
    "        if can_split(A, mid, K):\n",
    "            result = mid\n",
    "            right = mid - 1\n",
    "        else:\n",
    "            left = mid + 1\n",
    "    return result"
   ]
  },
  {
   "cell_type": "code",
   "execution_count": 8,
   "metadata": {},
   "outputs": [
    {
     "data": {
      "text/plain": [
       "6"
      ]
     },
     "execution_count": 8,
     "metadata": {},
     "output_type": "execute_result"
    }
   ],
   "source": [
    "a = [2,1,5,1,2,2,2]\n",
    "solution(3, 5, a)"
   ]
  },
  {
   "cell_type": "code",
   "execution_count": null,
   "metadata": {},
   "outputs": [],
   "source": []
  }
 ],
 "metadata": {
  "kernelspec": {
   "display_name": "zeus",
   "language": "python",
   "name": "python3"
  },
  "language_info": {
   "codemirror_mode": {
    "name": "ipython",
    "version": 3
   },
   "file_extension": ".py",
   "mimetype": "text/x-python",
   "name": "python",
   "nbconvert_exporter": "python",
   "pygments_lexer": "ipython3",
   "version": "3.11.5"
  }
 },
 "nbformat": 4,
 "nbformat_minor": 2
}
