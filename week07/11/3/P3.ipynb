{
 "cells": [
  {
   "cell_type": "code",
   "execution_count": 36,
   "metadata": {},
   "outputs": [],
   "source": [
    "def solution(A:list) -> int:\n",
    "    a = mysort(A)\n",
    "    m = max((a[-1] * a[-2] * a[-3]), (a[-1] * a[1] * a[0]))\n",
    "    return m\n",
    "    \n",
    "def mysort(A:list)->list:\n",
    "    for i in range(len(A)):\n",
    "        min = i\n",
    "        for j in range(i+1, len(A)):\n",
    "            if A[j] < A[min]:\n",
    "                min = j\n",
    "        A[i], A[min] = A[min], A[i]\n",
    "    return A"
   ]
  },
  {
   "cell_type": "code",
   "execution_count": 38,
   "metadata": {},
   "outputs": [
    {
     "name": "stdout",
     "output_type": "stream",
     "text": [
      "Test Case 1: Input = [1, 2, 3, 4, 5] -> Output = 60\n",
      "Test Case 2: Input = [-10, -10, 5, 2] -> Output = 500\n",
      "Test Case 3: Input = [-5, 4, 3, 2, 1] -> Output = 24\n",
      "Test Case 4: Input = [-3, -2, -1, -5, -4] -> Output = -6\n",
      "Test Case 5: Input = [0, 0, 0, 0, 0] -> Output = 0\n"
     ]
    }
   ],
   "source": [
    "# Test Case 1: 일반적인 양수 배열\n",
    "A1 = [1, 2, 3, 4, 5]  \n",
    "# 예상 결과: 3*4*5 = 60 \n",
    "\n",
    "# Test Case 2: 음수가 포함된 배열\n",
    "A2 = [-10, -10, 5, 2]  \n",
    "# 예상 결과: -10 * -10 * 5 = 500\n",
    "\n",
    "# Test Case 3: 양수와 음수가 혼합된 배열\n",
    "A3 = [-5, 4, 3, 2, 1]  \n",
    "# 예상 결과: -5 * 4 * 3 = 12 (음수*양수 조합이 더 클 수 있음)\n",
    "\n",
    "# Test Case 4: 모두 음수인 배열\n",
    "A4 = [-3, -2, -1, -5, -4]  \n",
    "# 예상 결과: -1 * -2 * -3 = -6 \n",
    "\n",
    "# Test Case 5: 모든 숫자가 0인 배열\n",
    "A5 = [0, 0, 0, 0, 0]  \n",
    "# 예상 결과: 0 (모든 값이 0이므로 최댓값도 0)\n",
    "\n",
    "# 실행 및 출력 결과 확인\n",
    "test_cases = [A1, A2, A3, A4, A5]\n",
    "for i, case in enumerate(test_cases, 1):\n",
    "    print(f\"Test Case {i}: Input = {case} -> Output = {solution(case)}\")\n"
   ]
  },
  {
   "cell_type": "code",
   "execution_count": null,
   "metadata": {},
   "outputs": [],
   "source": []
  }
 ],
 "metadata": {
  "kernelspec": {
   "display_name": "zeus",
   "language": "python",
   "name": "python3"
  },
  "language_info": {
   "codemirror_mode": {
    "name": "ipython",
    "version": 3
   },
   "file_extension": ".py",
   "mimetype": "text/x-python",
   "name": "python",
   "nbconvert_exporter": "python",
   "pygments_lexer": "ipython3",
   "version": "3.11.5"
  }
 },
 "nbformat": 4,
 "nbformat_minor": 2
}
