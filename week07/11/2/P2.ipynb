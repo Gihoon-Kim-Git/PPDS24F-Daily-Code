{
 "cells": [
  {
   "cell_type": "code",
   "execution_count": 17,
   "metadata": {},
   "outputs": [],
   "source": [
    "class Solution:\n",
    "    #Function to sort a list using quick sort algorithm.\n",
    "    def quickSort(self,arr,low,high):\n",
    "        # code here\n",
    "        if low < high:\n",
    "            #여기서 inplace로 arr로 받아두고 아래서 나머지 부분 퀵소트\n",
    "            pi = self.partition(arr, low, high)\n",
    "            self.quickSort(arr, low, pi-1)\n",
    "            self.quickSort(arr, pi+1, high)\n",
    "        return arr\n",
    "        \n",
    "    \n",
    "    def partition(self,arr,low,high):\n",
    "        # code here\n",
    "        pivot = arr[high]\n",
    "        #i = 피봇보다 작은 것들 바로 다음 인덱스(피봇이 들어가야 하는 곳)\n",
    "        i = low \n",
    "        for j in range(low, high):\n",
    "            #큰 거는 냅두고 작은거만 아래쪽부터 쌓아올리는 방식\n",
    "            #그리고 그 바로 다음에 pivot 넣으면 됨\n",
    "            if arr[j] <= pivot:\n",
    "                arr[i], arr[j] = arr[j], arr[i]\n",
    "                i += 1\n",
    "        \n",
    "        #이때동안 pivot은 계속 high에 있음\n",
    "        arr[i], arr[high] = arr[high], arr[i]\n",
    "\n",
    "        #return pivot index\n",
    "        return i"
   ]
  },
  {
   "cell_type": "code",
   "execution_count": 18,
   "metadata": {},
   "outputs": [
    {
     "data": {
      "text/plain": [
       "[1, 5, 7, 8, 9, 10]"
      ]
     },
     "execution_count": 18,
     "metadata": {},
     "output_type": "execute_result"
    }
   ],
   "source": [
    "s = Solution()\n",
    "prob = [1, 5, 7, 8, 9, 10]\n",
    "s.quickSort(prob, 0, 2)\n",
    "prob"
   ]
  },
  {
   "cell_type": "code",
   "execution_count": null,
   "metadata": {},
   "outputs": [],
   "source": []
  }
 ],
 "metadata": {
  "kernelspec": {
   "display_name": "zeus",
   "language": "python",
   "name": "python3"
  },
  "language_info": {
   "codemirror_mode": {
    "name": "ipython",
    "version": 3
   },
   "file_extension": ".py",
   "mimetype": "text/x-python",
   "name": "python",
   "nbconvert_exporter": "python",
   "pygments_lexer": "ipython3",
   "version": "3.11.5"
  }
 },
 "nbformat": 4,
 "nbformat_minor": 2
}
