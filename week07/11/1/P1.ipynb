{
 "cells": [
  {
   "cell_type": "code",
   "execution_count": 5,
   "metadata": {},
   "outputs": [],
   "source": [
    "class Solution:\n",
    "    def getRow(self, rowIndex: int) -> list[int]:\n",
    "        if rowIndex == 0:\n",
    "            return [1]\n",
    "        elif rowIndex == 1 :\n",
    "            return [1,1]\n",
    "        result = [1]\n",
    "        bef = self.getRow(rowIndex-1)\n",
    "        for i in range(len(bef)-1):\n",
    "            result.append(bef[i] + bef[i+1])\n",
    "        result.append(1)\n",
    "        return result\n",
    "\n",
    "    def getRow2(self, rowIndex: int) -> list[int]:\n",
    "        # 초기화: row를 [1]로 시작\n",
    "        row = [1] * (rowIndex + 1)\n",
    "        \n",
    "        # 각 행을 채우는 반복문\n",
    "        for i in range(2, rowIndex + 1):\n",
    "            # 현재 행의 요소를 뒤에서부터 업데이트 (오른쪽에서 왼쪽으로)\n",
    "            for j in range(i - 1, 0, -1):\n",
    "                row[j] += row[j - 1]\n",
    "        \n",
    "        return row\n"
   ]
  },
  {
   "cell_type": "code",
   "execution_count": 6,
   "metadata": {},
   "outputs": [
    {
     "data": {
      "text/plain": [
       "[1, 11, 55, 165, 330, 462, 462, 330, 165, 55, 11, 1]"
      ]
     },
     "execution_count": 6,
     "metadata": {},
     "output_type": "execute_result"
    }
   ],
   "source": [
    "s = Solution()\n",
    "s.getRow(11)"
   ]
  },
  {
   "cell_type": "code",
   "execution_count": null,
   "metadata": {},
   "outputs": [],
   "source": []
  }
 ],
 "metadata": {
  "kernelspec": {
   "display_name": "zeus",
   "language": "python",
   "name": "python3"
  },
  "language_info": {
   "codemirror_mode": {
    "name": "ipython",
    "version": 3
   },
   "file_extension": ".py",
   "mimetype": "text/x-python",
   "name": "python",
   "nbconvert_exporter": "python",
   "pygments_lexer": "ipython3",
   "version": "3.11.5"
  }
 },
 "nbformat": 4,
 "nbformat_minor": 2
}
