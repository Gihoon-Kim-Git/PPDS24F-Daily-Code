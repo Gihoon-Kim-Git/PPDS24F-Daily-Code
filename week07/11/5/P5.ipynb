{
 "cells": [
  {
   "cell_type": "code",
   "execution_count": 10,
   "metadata": {},
   "outputs": [],
   "source": [
    "class Solution:\n",
    "    def searchMatrix(self, matrix: list[list[int]], target: int) -> bool:\n",
    "        i,j = 0, 0\n",
    "        while i < len(matrix) and matrix[i][0] <= target:\n",
    "            i+=1\n",
    "        while j < len(matrix[0]) and matrix[0][j] <= target:\n",
    "            j+=1\n",
    "        \n",
    "        for n in range(i):\n",
    "            for m in range(j):\n",
    "                if matrix[n][m] == target:\n",
    "                    return True\n",
    "        return False"
   ]
  },
  {
   "cell_type": "code",
   "execution_count": 14,
   "metadata": {},
   "outputs": [],
   "source": [
    "#이건 gpt가 알려준 최적화 방법\n",
    "def searchMatrix2(matrix: list[list[int]], target: int) -> bool:\n",
    "\n",
    "    rows, cols = len(matrix), len(matrix[0])\n",
    "    row, col = rows - 1, 0  # 왼쪽 하단에서 시작\n",
    "\n",
    "    while row >= 0 and col < cols:\n",
    "        if matrix[row][col] == target:\n",
    "            return True\n",
    "        elif matrix[row][col] < target:\n",
    "            col += 1  # 더 큰 값으로 이동 (오른쪽으로)\n",
    "        else:\n",
    "            row -= 1  # 더 작은 값으로 이동 (위로)\n",
    "\n",
    "    return False"
   ]
  },
  {
   "cell_type": "code",
   "execution_count": 15,
   "metadata": {},
   "outputs": [
    {
     "data": {
      "text/plain": [
       "True"
      ]
     },
     "execution_count": 15,
     "metadata": {},
     "output_type": "execute_result"
    }
   ],
   "source": [
    "matrix1 = [\n",
    "    [1, 4, 7, 11, 15],\n",
    "    [2, 5, 8, 12, 19],\n",
    "    [3, 6, 9, 16, 22],\n",
    "    [10, 13, 14, 17, 24],\n",
    "    [18, 21, 23, 26, 30]\n",
    "]\n",
    "target1 = 5\n",
    "searchMatrix2(matrix1, target1)"
   ]
  },
  {
   "cell_type": "code",
   "execution_count": null,
   "metadata": {},
   "outputs": [],
   "source": []
  }
 ],
 "metadata": {
  "kernelspec": {
   "display_name": "zeus",
   "language": "python",
   "name": "python3"
  },
  "language_info": {
   "codemirror_mode": {
    "name": "ipython",
    "version": 3
   },
   "file_extension": ".py",
   "mimetype": "text/x-python",
   "name": "python",
   "nbconvert_exporter": "python",
   "pygments_lexer": "ipython3",
   "version": "3.11.5"
  }
 },
 "nbformat": 4,
 "nbformat_minor": 2
}
