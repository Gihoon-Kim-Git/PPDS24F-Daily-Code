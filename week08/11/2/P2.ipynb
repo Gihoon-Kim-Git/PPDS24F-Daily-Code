{
 "cells": [
  {
   "cell_type": "code",
   "execution_count": 1,
   "metadata": {},
   "outputs": [],
   "source": [
    "#이건 내 방식인데, 시간복잡도가 효율적이진 않음\n",
    "class MyCalendarTwo:\n",
    "\n",
    "    def __init__(self):\n",
    "        self.cal1 = []\n",
    "        self.cal2 = []\n",
    "\n",
    "    def book(self, start: int, end: int) -> bool:\n",
    "        check = [0] * (end - start)\n",
    "        for i in range(len(self.cal1)):\n",
    "            if start < self.cal2[i] and end > self.cal1[i]:\n",
    "                overlap_start = max(start, self.cal1[i])\n",
    "                overlap_end = min(end, self.cal2[i])\n",
    "                for j in range(overlap_start - start, overlap_end - start):\n",
    "                    check[j] += 1\n",
    "\n",
    "        if any(x >= 2 for x in check):\n",
    "            return False\n",
    "        self.cal1.append(start)\n",
    "        self.cal2.append(end)\n",
    "        return True"
   ]
  },
  {
   "cell_type": "code",
   "execution_count": null,
   "metadata": {},
   "outputs": [],
   "source": [
    "#Leetcode도 통과하는 답안\n",
    "class MyCalendarTwo:\n",
    "\n",
    "    def __init__(self):\n",
    "        # List of single and double bookings\n",
    "        self.single_bookings = []\n",
    "        self.double_bookings = []\n",
    "\n",
    "    def book(self, start: int, end: int) -> bool:\n",
    "        # Check for any overlap with double bookings (would result in triple booking)\n",
    "        for dbl_start, dbl_end in self.double_bookings:\n",
    "            if max(start, dbl_start) < min(end, dbl_end):  # If there's an overlap with double bookings\n",
    "                return False\n",
    "        \n",
    "        # Check for overlaps with single bookings and prepare to add the overlap to double bookings\n",
    "        for sng_start, sng_end in self.single_bookings:\n",
    "            overlap_start = max(start, sng_start)\n",
    "            overlap_end = min(end, sng_end)\n",
    "            if overlap_start < overlap_end:  # There's an overlap\n",
    "                self.double_bookings.append((overlap_start, overlap_end))\n",
    "        \n",
    "        # If no triple booking, add the event to single bookings\n",
    "        self.single_bookings.append((start, end))\n",
    "        \n",
    "        return True"
   ]
  },
  {
   "cell_type": "code",
   "execution_count": 2,
   "metadata": {},
   "outputs": [
    {
     "name": "stdout",
     "output_type": "stream",
     "text": [
      "True\n",
      "True\n",
      "True\n",
      "False\n",
      "True\n",
      "True\n",
      "True\n",
      "False\n"
     ]
    }
   ],
   "source": [
    "# MyCalendarTwo 클래스 인스턴스 생성\n",
    "calendar = MyCalendarTwo()\n",
    "\n",
    "# 테스트 케이스 1: 단순 예약 (겹치지 않는 경우)\n",
    "print(calendar.book(10, 20))  # True, 첫 번째 예약 성공\n",
    "print(calendar.book(25, 30))  # True, 두 번째 예약 성공 (겹치지 않음)\n",
    "\n",
    "# 테스트 케이스 2: 이중 예약 허용 (일부 겹침 허용)\n",
    "print(calendar.book(15, 25))  # True, 10-20 예약과 겹침, 하지만 이중 예약은 허용\n",
    "\n",
    "# 테스트 케이스 3: 삼중 예약 거부 (삼중으로 겹칠 경우)\n",
    "print(calendar.book(12, 18))  # False, 10-20, 15-25와 겹치므로 삼중 예약 발생, 거부\n",
    "\n",
    "# 테스트 케이스 4: 경계 조건 테스트 (끝과 시작이 딱 맞는 경우)\n",
    "print(calendar.book(20, 25))  # True, 10-20의 끝과 정확히 맞음, 겹치지 않으므로 성공\n",
    "\n",
    "# 테스트 케이스 5: 삼중 예약 발생하지 않는 한계 테스트\n",
    "print(calendar.book(27, 35))  # True, 이전 예약(25-30)의 끝 부분과 맞물리지만 겹치지 않음\n",
    "\n",
    "# 테스트 케이스 6: 겹치지 않는 또 다른 예약\n",
    "print(calendar.book(40, 50))  # True, 새로운 예약은 겹치지 않음\n",
    "\n",
    "# 테스트 케이스 7: 삼중 예약 시도 (실패)\n",
    "print(calendar.book(22, 28))  # False, 이미 20-25와\n"
   ]
  },
  {
   "cell_type": "code",
   "execution_count": null,
   "metadata": {},
   "outputs": [],
   "source": []
  }
 ],
 "metadata": {
  "kernelspec": {
   "display_name": "zeus",
   "language": "python",
   "name": "python3"
  },
  "language_info": {
   "codemirror_mode": {
    "name": "ipython",
    "version": 3
   },
   "file_extension": ".py",
   "mimetype": "text/x-python",
   "name": "python",
   "nbconvert_exporter": "python",
   "pygments_lexer": "ipython3",
   "version": "3.11.5"
  }
 },
 "nbformat": 4,
 "nbformat_minor": 2
}
