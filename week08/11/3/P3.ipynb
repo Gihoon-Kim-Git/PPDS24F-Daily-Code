{
 "cells": [
  {
   "cell_type": "code",
   "execution_count": null,
   "metadata": {},
   "outputs": [],
   "source": [
    "class MyCircularDeque:\n",
    "\n",
    "    def __init__(self, k: int):\n",
    "        self.maxsize = k\n",
    "        self.num = []\n",
    "    def insertFront(self, value: int) -> bool:\n",
    "        if len(self.num) == self.maxsize:\n",
    "            return False\n",
    "        self.num.append(0)\n",
    "        self.num[1:] = self.num[:-1]\n",
    "        self.num[0] = value\n",
    "        return True\n",
    "        \n",
    "    def insertLast(self, value: int) -> bool:\n",
    "        if len(self.num) == self.maxsize:\n",
    "            return False\n",
    "        self.num.append(value)\n",
    "        return True\n",
    "\n",
    "    def deleteFront(self) -> bool:\n",
    "        if len(self.num) == 0:\n",
    "            return False\n",
    "        self.num = self.num[1:]\n",
    "        return True\n",
    "\n",
    "    def deleteLast(self) -> bool:\n",
    "        if len(self.num) == 0:\n",
    "            return False\n",
    "        self.num = self.num[:-1]\n",
    "        return True\n",
    "\n",
    "    def getFront(self) -> int:\n",
    "        if len(self.num) == 0:\n",
    "            return -1\n",
    "        return self.num[0]\n",
    "        \n",
    "\n",
    "    def getRear(self) -> int:\n",
    "        if len(self.num) == 0:\n",
    "            return -1\n",
    "        return self.num[-1]\n",
    "        \n",
    "\n",
    "    def isEmpty(self) -> bool:\n",
    "        return len(self.num) == 0\n",
    "\n",
    "    def isFull(self) -> bool:\n",
    "        return len(self.num) == self.maxsize"
   ]
  },
  {
   "cell_type": "code",
   "execution_count": null,
   "metadata": {},
   "outputs": [],
   "source": []
  }
 ],
 "metadata": {
  "language_info": {
   "name": "python"
  }
 },
 "nbformat": 4,
 "nbformat_minor": 2
}
