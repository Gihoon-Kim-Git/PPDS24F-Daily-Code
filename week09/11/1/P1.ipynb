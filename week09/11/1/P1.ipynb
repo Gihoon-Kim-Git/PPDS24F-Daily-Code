{
 "cells": [
  {
   "cell_type": "code",
   "execution_count": 7,
   "metadata": {},
   "outputs": [],
   "source": [
    "from collections import deque\n",
    "class Solution(object):\n",
    "    def validPath(self, n, edges, source, destination):\n",
    "        self.neighbors = {}\n",
    "        for v in range(n):\n",
    "            self.neighbors[v] = []\n",
    "        for(v,w) in edges:\n",
    "            self.neighbors[v].append(w)\n",
    "            self.neighbors[w].append(v)\n",
    "         \n",
    "        visited = {}\n",
    "        queue = deque()  # 큐를 초기화\n",
    "\n",
    "        # 그래프의 모든 노드에 대해 방문하지 않은 상태로 표시합니다.\n",
    "        for v in range(n):\n",
    "            visited[v] = False\n",
    "\n",
    "        if not visited[source]:\n",
    "            queue.append(source)  # 큐에 시작 노드를 추가합니다.\n",
    "            visited[source] = True  # 시작 노드를 방문한 것으로 표시합니다.\n",
    "\n",
    "            while queue:\n",
    "                node = queue.popleft()\n",
    "                if node == destination:\n",
    "                    return True \n",
    "\n",
    "                # 이웃 노드 중에서 아직 방문하지 않은 노드를 큐에 추가하고 방문한 것으로 표시합니다.\n",
    "                for neighbor in self.neighbors[node]:\n",
    "                    if not visited[neighbor]:\n",
    "                        queue.append(neighbor)\n",
    "                        visited[neighbor] = True\n",
    "        return False"
   ]
  },
  {
   "cell_type": "code",
   "execution_count": 8,
   "metadata": {},
   "outputs": [
    {
     "data": {
      "text/plain": [
       "False"
      ]
     },
     "execution_count": 8,
     "metadata": {},
     "output_type": "execute_result"
    }
   ],
   "source": [
    "s = Solution()\n",
    "s.validPath(6, [[0,1],[0,2],[3,5],[5,4],[4,3]], 0, 5)"
   ]
  },
  {
   "cell_type": "code",
   "execution_count": 9,
   "metadata": {},
   "outputs": [],
   "source": [
    "#무식하게 푼 방법\n",
    "def validPath(n, edges, source, destination):\n",
    "    connect = [source]\n",
    "    flag = 1\n",
    "    while flag == 1:\n",
    "        flag = 0\n",
    "        for (s,d) in edges:\n",
    "            if s in connect and d not in connect:\n",
    "                connect.append(d)\n",
    "                flag = 1\n",
    "            elif d in connect and s not in connect:\n",
    "                connect.append(s)\n",
    "                flag = 1\n",
    "    if destination in connect :\n",
    "        return True\n",
    "    return False"
   ]
  },
  {
   "cell_type": "code",
   "execution_count": null,
   "metadata": {},
   "outputs": [],
   "source": [
    "#이거는 stack으로 DFT로 푼거\n",
    "from collections import deque\n",
    "\n",
    "class Solution(object):\n",
    "    def validPath(self, n, edges, source, destination):\n",
    "        # 인접 리스트로 그래프 생성\n",
    "        neighbors = {}\n",
    "        for v, w in edges:\n",
    "            neighbors[v].append(w)\n",
    "            neighbors[w].append(v)\n",
    "        \n",
    "        visited = [False] * n  # 방문 여부를 기록하는 리스트\n",
    "        stack = [source]  # 탐색을 위한 스택에 시작 노드를 추가\n",
    "        visited[source] = True  # 시작 노드를 방문으로 표시\n",
    "\n",
    "        # DFS 스택 반복문\n",
    "        while stack:\n",
    "            node = stack.pop()  # 스택에서 노드를 가져옴\n",
    "            if node == destination:  # 목표 노드에 도달하면 True 반환\n",
    "                return True\n",
    "            \n",
    "            # 방문하지 않은 이웃 노드를 스택에 추가\n",
    "            for neighbor in neighbors[node]:\n",
    "                if not visited[neighbor]:\n",
    "                    stack.append(neighbor)\n",
    "                    visited[neighbor] = True  # 방문한 것으로 표시\n",
    "\n",
    "        return False "
   ]
  }
 ],
 "metadata": {
  "kernelspec": {
   "display_name": "zeus",
   "language": "python",
   "name": "python3"
  },
  "language_info": {
   "codemirror_mode": {
    "name": "ipython",
    "version": 3
   },
   "file_extension": ".py",
   "mimetype": "text/x-python",
   "name": "python",
   "nbconvert_exporter": "python",
   "pygments_lexer": "ipython3",
   "version": "3.11.5"
  }
 },
 "nbformat": 4,
 "nbformat_minor": 2
}
