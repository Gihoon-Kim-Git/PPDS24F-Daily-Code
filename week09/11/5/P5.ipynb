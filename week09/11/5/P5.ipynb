{
 "cells": [
  {
   "cell_type": "code",
   "execution_count": null,
   "metadata": {},
   "outputs": [],
   "source": [
    "class Solution(object):\n",
    "    def kthSmallest(self, root, k):\n",
    "        \"\"\"\n",
    "        :type root: Optional[TreeNode]\n",
    "        :type k: int\n",
    "        :rtype: int\n",
    "        \"\"\"\n",
    "        ord = []\n",
    "        def inorder(v):\n",
    "            if not v:\n",
    "                return\n",
    "            inorder(v.left)\n",
    "            ord.append(v.val)\n",
    "            inorder(v.right)\n",
    "\n",
    "        inorder(root)\n",
    "\n",
    "        return ord[k-1]"
   ]
  }
 ],
 "metadata": {
  "language_info": {
   "name": "python"
  }
 },
 "nbformat": 4,
 "nbformat_minor": 2
}
