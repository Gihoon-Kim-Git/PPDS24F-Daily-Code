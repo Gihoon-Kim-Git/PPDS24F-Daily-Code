{
 "cells": [
  {
   "cell_type": "code",
   "execution_count": 1,
   "metadata": {},
   "outputs": [],
   "source": [
    "\n",
    "class Node(object):\n",
    "    def __init__(self, val=None, children=None):\n",
    "        self.val = val\n",
    "        self.children = children\n",
    "\n",
    "\n",
    "class Solution(object):\n",
    "    def maxDepth(self, root):\n",
    "        \"\"\"\n",
    "        :type root: Node\n",
    "        :rtype: int\n",
    "        \"\"\"\n",
    "        if not root:\n",
    "            return 0\n",
    "\n",
    "        def __DFTHelp(v):\n",
    "            if not v.children:\n",
    "                return 1\n",
    "            else:\n",
    "                m = 0\n",
    "                for w in v.children:\n",
    "                    d = __DFTHelp(w)\n",
    "                    if d > m:\n",
    "                        m = d\n",
    "                return m + 1\n",
    "\n",
    "        return __DFTHelp(root)\n"
   ]
  },
  {
   "cell_type": "code",
   "execution_count": 2,
   "metadata": {},
   "outputs": [
    {
     "name": "stdout",
     "output_type": "stream",
     "text": [
      "0\n",
      "1\n",
      "2\n",
      "3\n",
      "4\n"
     ]
    }
   ],
   "source": [
    "# Test cases for maxDepth function\n",
    "\n",
    "# Helper function to build the tree\n",
    "def create_tree(val, children=[]):\n",
    "    return Node(val=val, children=children)\n",
    "\n",
    "# Test 1: Empty tree (root is None)\n",
    "root1 = None\n",
    "print(Solution().maxDepth(root1))  # Expected output: 0\n",
    "\n",
    "# Test 2: Tree with only one node (depth = 1)\n",
    "root2 = create_tree(1)\n",
    "print(Solution().maxDepth(root2))  # Expected output: 1\n",
    "\n",
    "# Test 3: Tree with two levels (depth = 2)\n",
    "root3 = create_tree(1, [create_tree(2), create_tree(3), create_tree(4)])\n",
    "print(Solution().maxDepth(root3))  # Expected output: 2\n",
    "\n",
    "# Test 4: Tree with three levels and balanced structure (depth = 3)\n",
    "root4 = create_tree(1, [\n",
    "    create_tree(2, [create_tree(5), create_tree(6)]),\n",
    "    create_tree(3),\n",
    "    create_tree(4, [create_tree(7)])\n",
    "])\n",
    "print(Solution().maxDepth(root4))  # Expected output: 3\n",
    "\n",
    "# Test 5: Tree with four levels and unbalanced structure (depth = 4)\n",
    "root5 = create_tree(1, [\n",
    "    create_tree(2, [\n",
    "        create_tree(5, [\n",
    "            create_tree(8)\n",
    "        ])\n",
    "    ]),\n",
    "    create_tree(3),\n",
    "    create_tree(4, [create_tree(6), create_tree(7)])\n",
    "])\n",
    "print(Solution().maxDepth(root5))  # Expected output: 4\n"
   ]
  },
  {
   "cell_type": "code",
   "execution_count": null,
   "metadata": {},
   "outputs": [],
   "source": []
  }
 ],
 "metadata": {
  "kernelspec": {
   "display_name": "zeus",
   "language": "python",
   "name": "python3"
  },
  "language_info": {
   "codemirror_mode": {
    "name": "ipython",
    "version": 3
   },
   "file_extension": ".py",
   "mimetype": "text/x-python",
   "name": "python",
   "nbconvert_exporter": "python",
   "pygments_lexer": "ipython3",
   "version": "3.11.5"
  }
 },
 "nbformat": 4,
 "nbformat_minor": 2
}
