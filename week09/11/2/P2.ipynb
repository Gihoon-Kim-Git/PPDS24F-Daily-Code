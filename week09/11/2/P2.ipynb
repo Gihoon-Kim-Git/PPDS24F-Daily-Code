{
 "cells": [
  {
   "cell_type": "code",
   "execution_count": null,
   "metadata": {},
   "outputs": [],
   "source": [
    "class Solution(object):\n",
    "    def isBipartite(self, graph):\n",
    "        \"\"\"\n",
    "        :type graph: List[List[int]]\n",
    "        :rtype: bool\n",
    "        \"\"\"\n",
    "        category = {}\n",
    "\n",
    "        for i in range(len(graph)):\n",
    "            # 아직 색칠되지 않은 노드부터 시작\n",
    "            if i not in category:\n",
    "                category[i] = 0\n",
    "                queue = [i]\n",
    "                while queue:\n",
    "                    current = queue.pop(0)\n",
    "                    \n",
    "                    for neighbor in graph[current]:\n",
    "                        if neighbor not in category:\n",
    "                            category[neighbor] = 1 - category[current]\n",
    "                            queue.append(neighbor)\n",
    "                        elif category[neighbor] == category[current]:\n",
    "                            # 인접 노드가 같은 색이면 이분 그래프 아님\n",
    "                            return False\n",
    "\n",
    "        return True"
   ]
  }
 ],
 "metadata": {
  "language_info": {
   "name": "python"
  }
 },
 "nbformat": 4,
 "nbformat_minor": 2
}
