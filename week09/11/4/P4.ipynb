{
 "cells": [
  {
   "cell_type": "code",
   "execution_count": 5,
   "metadata": {},
   "outputs": [],
   "source": [
    "#전체 이윤 계산\n",
    "def max_profit(A : list) -> int:\n",
    "    profit = 0\n",
    "    for i in range(len(A) - 1):\n",
    "        if A[i] < A[i+1]:\n",
    "            profit += A[i+1] - A[i]\n",
    "    return profit\n",
    "\n",
    "#한번의 거래로 인한 최대 이윤\n",
    "def solution(A : list) -> int:\n",
    "    m = 0\n",
    "    for i in range(len(A)):\n",
    "        for j in range(i, len(A)):\n",
    "            if A[j] - A[i] > m:\n",
    "                m = A[j] - A[i]\n",
    "    return m\n"
   ]
  },
  {
   "cell_type": "code",
   "execution_count": 6,
   "metadata": {},
   "outputs": [
    {
     "data": {
      "text/plain": [
       "356"
      ]
     },
     "execution_count": 6,
     "metadata": {},
     "output_type": "execute_result"
    }
   ],
   "source": [
    "A = [23171, 21011, 21123, 21366, 21013, 21367]\n",
    "solution(A)"
   ]
  },
  {
   "cell_type": "code",
   "execution_count": null,
   "metadata": {},
   "outputs": [],
   "source": []
  }
 ],
 "metadata": {
  "kernelspec": {
   "display_name": "zeus",
   "language": "python",
   "name": "python3"
  },
  "language_info": {
   "codemirror_mode": {
    "name": "ipython",
    "version": 3
   },
   "file_extension": ".py",
   "mimetype": "text/x-python",
   "name": "python",
   "nbconvert_exporter": "python",
   "pygments_lexer": "ipython3",
   "version": "3.11.5"
  }
 },
 "nbformat": 4,
 "nbformat_minor": 2
}
