{
 "cells": [
  {
   "cell_type": "code",
   "execution_count": 3,
   "metadata": {},
   "outputs": [],
   "source": [
    "edges = [[0,1],[0,2],[3,5],[5,4],[4,3]]\n",
    "n = 6\n",
    "\n",
    "def validPath(n, edges, source, destination):\n",
    "    # return type: bool\n",
    "    graph = [[] for _ in range(n)]\n",
    "    for edge in edges:\n",
    "        graph[edge[0]].append(edge[1])\n",
    "        graph[edge[1]].append(edge[0])\n",
    "    def dfs(graph, source,destination, visited):\n",
    "        if source == destination:\n",
    "            return True\n",
    "        visited[source] = 1 # mark the current node as visited\n",
    "        for neighbor in graph[source]:\n",
    "            if visited[neighbor] == 0:\n",
    "                if dfs(graph, neighbor, destination, visited):\n",
    "                    return True\n",
    "        return False\n",
    "    # Initialize a list to keep track of visited vertices\n",
    "    visited = [0] * n\n",
    "    return dfs(graph, source, destination, visited)"
   ]
  },
  {
   "cell_type": "code",
   "execution_count": 4,
   "metadata": {},
   "outputs": [
    {
     "data": {
      "text/plain": [
       "False"
      ]
     },
     "execution_count": 4,
     "metadata": {},
     "output_type": "execute_result"
    }
   ],
   "source": [
    "validPath(n, edges, 0, 5)"
   ]
  },
  {
   "cell_type": "code",
   "execution_count": null,
   "metadata": {},
   "outputs": [],
   "source": [
    "# isBipartite\n",
    "import collections\n",
    "def isBipartite(graph):\n",
    "    n = len(graph)\n",
    "    colors = [0]*n\n",
    "    for i in range(n):\n",
    "        if colors[i] != 0:\n",
    "            continue\n",
    "\n",
    "        q = collections.deque([i])\n",
    "        colors[i] = 1\n",
    "        while q:\n",
    "            curr = q.popleft()\n",
    "            for neighbor in graph[curr]:\n",
    "                if colors[neighbor] == 0:\n",
    "                    colors[neighbor] = -colors[curr]\n",
    "                    q.append(neighbor)\n",
    "                elif colors[neighbor] == colors[curr]:\n",
    "                    return False\n",
    "    return True"
   ]
  },
  {
   "cell_type": "code",
   "execution_count": 1,
   "metadata": {},
   "outputs": [],
   "source": [
    "root = [1,None,3,2,4,None,5,6]"
   ]
  },
  {
   "cell_type": "code",
   "execution_count": 2,
   "metadata": {},
   "outputs": [],
   "source": [
    "# Definition for a Node.\n",
    "class Node(object):\n",
    "    def __init__(self, val=None, children=None):\n",
    "        self.val = val\n",
    "        self.children = children\n",
    "\n",
    "class Solution(object):\n",
    "    def maxDepth(self, root):\n",
    "        \"\"\"\n",
    "        :type root: Node\n",
    "        :rtype: int\n",
    "        \"\"\"\n",
    "        queue = []\n",
    "        if root:\n",
    "            queue += [(root, 1)]\n",
    "        maxDepth = 0\n",
    "        for (node, depth) in queue:\n",
    "            maxDepth = depth\n",
    "            tmp = []\n",
    "            for child in node.children:\n",
    "                tmp += [(child, depth+1)]\n",
    "            queue += tmp\n",
    "        return maxDepth"
   ]
  },
  {
   "cell_type": "code",
   "execution_count": 3,
   "metadata": {},
   "outputs": [],
   "source": [
    "A = [23171, 21011, 21123, 21366, 21013, 21367]"
   ]
  },
  {
   "cell_type": "code",
   "execution_count": 5,
   "metadata": {},
   "outputs": [],
   "source": [
    "def solution(A):\n",
    "    maxProfit = 0\n",
    "    for i in range(len(A)):\n",
    "        for j in range(i+1, len(A)):\n",
    "            maxProfit = max(maxProfit, A[j]-A[i])\n",
    "    return maxProfit"
   ]
  },
  {
   "cell_type": "code",
   "execution_count": 6,
   "metadata": {},
   "outputs": [
    {
     "data": {
      "text/plain": [
       "356"
      ]
     },
     "execution_count": 6,
     "metadata": {},
     "output_type": "execute_result"
    }
   ],
   "source": [
    "solution(A)"
   ]
  },
  {
   "cell_type": "code",
   "execution_count": 7,
   "metadata": {},
   "outputs": [],
   "source": [
    "def solution(A):\n",
    "    # Return 0 if the array is empty or contains only one element (no transaction possible)\n",
    "    if len(A) < 2:\n",
    "        return 0\n",
    "\n",
    "    # Initialize variables for the minimum price and maximum profit\n",
    "    min_price = A[0]\n",
    "    max_profit = 0\n",
    "\n",
    "    # Traverse through each price in the array\n",
    "    for price in A:\n",
    "        # Update minimum price if a new lower price is found\n",
    "        min_price = min(min_price, price)\n",
    "        # Calculate the profit for the current price and update max profit if this is the best we've seen\n",
    "        max_profit = max(max_profit, price - min_price)\n",
    "\n",
    "    return max_profit\n"
   ]
  },
  {
   "cell_type": "code",
   "execution_count": 8,
   "metadata": {},
   "outputs": [
    {
     "data": {
      "text/plain": [
       "356"
      ]
     },
     "execution_count": 8,
     "metadata": {},
     "output_type": "execute_result"
    }
   ],
   "source": [
    "solution(A)"
   ]
  },
  {
   "cell_type": "code",
   "execution_count": null,
   "metadata": {},
   "outputs": [],
   "source": [
    "#Return the K-th smallest integer in a BST\n",
    "root = [3,1,4,null,2]\n",
    "k = 1"
   ]
  },
  {
   "cell_type": "code",
   "execution_count": null,
   "metadata": {},
   "outputs": [],
   "source": [
    "# Definition for a binary tree node.\n",
    "# class TreeNode(object):\n",
    "#     def __init__(self, val=0, left=None, right=None):\n",
    "#         self.val = val\n",
    "#         self.left = left\n",
    "#         self.right = right\n",
    "class Solution(object):\n",
    "    def kthSmallest(self, root, k):\n",
    "        \"\"\"\n",
    "        :type root: Optional[TreeNode]\n",
    "        :type k: int\n",
    "        :rtype: int\n",
    "        \"\"\""
   ]
  },
  {
   "cell_type": "code",
   "execution_count": 26,
   "metadata": {},
   "outputs": [],
   "source": [
    "class TNode:\n",
    "    def __init__(self, val=0, left=None, right=None):\n",
    "        self.val = val\n",
    "        self.left = left\n",
    "        self.right = right"
   ]
  },
  {
   "cell_type": "code",
   "execution_count": 27,
   "metadata": {},
   "outputs": [
    {
     "name": "stdout",
     "output_type": "stream",
     "text": [
      "3\n",
      "1 4\n",
      "Null 2 null null\n",
      "null null null null\n"
     ]
    }
   ],
   "source": [
    "# Example Usage\n",
    "root = TNode(3)\n",
    "root.left = TNode(1)\n",
    "root.right = TNode(4)\n",
    "root.left.left = TNode('Null')\n",
    "root.left.right = TNode(2)\n",
    "print_tree(root)"
   ]
  },
  {
   "cell_type": "code",
   "execution_count": 37,
   "metadata": {},
   "outputs": [],
   "source": [
    "def inorder_traversal(root):\n",
    "    if root:\n",
    "        inorder_traversal(root.left)\n",
    "        print(root.val, end=' ')\n",
    "        inorder_traversal(root.right)"
   ]
  },
  {
   "cell_type": "code",
   "execution_count": 41,
   "metadata": {},
   "outputs": [],
   "source": [
    "def inorder_traversal(root):\n",
    "    # Initialize an empty list to store the values\n",
    "    result = []\n",
    "    # Helper function to perform recursive inorder traversal\n",
    "    def helper(node):\n",
    "        if node:\n",
    "            helper(node.left)  # Traverse left subtree\n",
    "            if node.val != \"Null\":\n",
    "                result.append(node.val)  # Store the current node's value\n",
    "            helper(node.right)  # Traverse right subtree\n",
    "    \n",
    "    # Call the helper function with the root node\n",
    "    helper(root)\n",
    "    return result"
   ]
  },
  {
   "cell_type": "code",
   "execution_count": 42,
   "metadata": {},
   "outputs": [
    {
     "data": {
      "text/plain": [
       "[1, 2, 3, 4]"
      ]
     },
     "execution_count": 42,
     "metadata": {},
     "output_type": "execute_result"
    }
   ],
   "source": [
    "inorder_traversal(root)"
   ]
  },
  {
   "cell_type": "code",
   "execution_count": 9,
   "metadata": {},
   "outputs": [
    {
     "name": "stdout",
     "output_type": "stream",
     "text": [
      "10\n",
      "9 8\n",
      "7 6 5 4\n",
      "null null null null null null null null\n"
     ]
    }
   ],
   "source": []
  },
  {
   "cell_type": "code",
   "execution_count": null,
   "metadata": {},
   "outputs": [],
   "source": []
  }
 ],
 "metadata": {
  "kernelspec": {
   "display_name": "cglee",
   "language": "python",
   "name": "python3"
  },
  "language_info": {
   "codemirror_mode": {
    "name": "ipython",
    "version": 3
   },
   "file_extension": ".py",
   "mimetype": "text/x-python",
   "name": "python",
   "nbconvert_exporter": "python",
   "pygments_lexer": "ipython3",
   "version": "3.12.3"
  }
 },
 "nbformat": 4,
 "nbformat_minor": 2
}
