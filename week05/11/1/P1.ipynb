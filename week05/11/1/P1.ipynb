{
 "cells": [
  {
   "cell_type": "code",
   "execution_count": 3,
   "metadata": {},
   "outputs": [
    {
     "name": "stdout",
     "output_type": "stream",
     "text": [
      "1\n",
      "5\n"
     ]
    }
   ],
   "source": [
    "class ListNode:\n",
    "    def __init__(self, val=0, next=None):\n",
    "        self.val = val\n",
    "        self.next = next\n",
    "\n",
    "class Solution:\n",
    "    def removeElements(self, head: ListNode, val: int) -> ListNode:\n",
    "        curr = head\n",
    "        prev = None\n",
    "        while curr:\n",
    "            if curr.val == val:\n",
    "                if not prev:\n",
    "                    head = curr.next\n",
    "                    curr = curr.next\n",
    "                else:\n",
    "                    prev.next = curr.next\n",
    "                    curr = curr.next\n",
    "            else:\n",
    "                prev = curr\n",
    "                curr = curr.next\n",
    "        return head\n",
    "    \n",
    "a = ListNode(1)\n",
    "b = ListNode(3)\n",
    "c = ListNode(5)\n",
    "\n",
    "a.next = b\n",
    "b.next = c\n",
    "\n",
    "solution = Solution()\n",
    "a = solution.removeElements(a, 3)\n",
    "print(a.val)\n",
    "print(a.next.val)\n",
    "            "
   ]
  },
  {
   "cell_type": "code",
   "execution_count": null,
   "metadata": {},
   "outputs": [],
   "source": []
  }
 ],
 "metadata": {
  "kernelspec": {
   "display_name": "zeus",
   "language": "python",
   "name": "python3"
  },
  "language_info": {
   "codemirror_mode": {
    "name": "ipython",
    "version": 3
   },
   "file_extension": ".py",
   "mimetype": "text/x-python",
   "name": "python",
   "nbconvert_exporter": "python",
   "pygments_lexer": "ipython3",
   "version": "3.11.5"
  }
 },
 "nbformat": 4,
 "nbformat_minor": 2
}
