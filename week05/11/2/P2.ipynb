{
 "cells": [
  {
   "cell_type": "code",
   "execution_count": 2,
   "metadata": {},
   "outputs": [
    {
     "name": "stdout",
     "output_type": "stream",
     "text": [
      "1 -> 2 -> 5 -> END\n"
     ]
    }
   ],
   "source": [
    "class ListNode:\n",
    "    def __init__(self, val=0, next=None):\n",
    "        self.val = val\n",
    "        self.next = next\n",
    "class Solution:\n",
    "    def deleteDuplicates(self, head: ListNode) -> ListNode:\n",
    "        if not head:\n",
    "            return head\n",
    "        else:\n",
    "            temp = head.val\n",
    "            curr = head\n",
    "            fir = head\n",
    "            while curr:\n",
    "                if curr.val == temp:\n",
    "                    curr = curr.next\n",
    "                    fir.next = curr\n",
    "                else:\n",
    "                    temp = curr.val\n",
    "                    fir = curr\n",
    "            return head\n",
    "        \n",
    "\n",
    "a = ListNode(1)\n",
    "b = ListNode(2)\n",
    "b1 = ListNode(2)\n",
    "b2 = ListNode(2)\n",
    "c = ListNode(5)\n",
    "c1 = ListNode(5)\n",
    "c2 = ListNode(5)\n",
    "\n",
    "a.next = b\n",
    "b.next = b1\n",
    "b1.next = b2\n",
    "b2.next = c\n",
    "c.next = c1\n",
    "c1.next = c2\n",
    "\n",
    "solution = Solution()\n",
    "a = solution.deleteDuplicates(a)\n",
    "\n",
    "curr = a\n",
    "while(curr):\n",
    "    print(f\"{curr.val} -> \", end=\"\")\n",
    "    curr= curr.next\n",
    "print(\"END\")"
   ]
  }
 ],
 "metadata": {
  "kernelspec": {
   "display_name": "zeus",
   "language": "python",
   "name": "python3"
  },
  "language_info": {
   "codemirror_mode": {
    "name": "ipython",
    "version": 3
   },
   "file_extension": ".py",
   "mimetype": "text/x-python",
   "name": "python",
   "nbconvert_exporter": "python",
   "pygments_lexer": "ipython3",
   "version": "3.11.5"
  }
 },
 "nbformat": 4,
 "nbformat_minor": 2
}
