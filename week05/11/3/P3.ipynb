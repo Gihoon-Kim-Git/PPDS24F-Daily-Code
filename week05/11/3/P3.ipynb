{
 "cells": [
  {
   "cell_type": "code",
   "execution_count": 2,
   "metadata": {},
   "outputs": [
    {
     "name": "stdout",
     "output_type": "stream",
     "text": [
      "Middle value :  4\n"
     ]
    }
   ],
   "source": [
    "class ListNode:\n",
    "    def __init__(self, val=0, next=None):\n",
    "        self.val = val\n",
    "        self.next = next\n",
    "class Solution:\n",
    "    def middleNode(self, head: ListNode) -> ListNode:\n",
    "        fast = head\n",
    "        slow = head\n",
    "        while(fast and fast.next):\n",
    "            fast = fast.next.next\n",
    "            slow = slow.next\n",
    "        return slow\n",
    "    \n",
    "a = ListNode(1)\n",
    "b = ListNode(2)\n",
    "b1 = ListNode(3)\n",
    "b2 = ListNode(4)\n",
    "c = ListNode(5)\n",
    "c1 = ListNode(6)\n",
    "c2 = ListNode(7)\n",
    "\n",
    "a.next = b\n",
    "b.next = b1\n",
    "b1.next = b2\n",
    "b2.next = c\n",
    "c.next = c1\n",
    "c1.next = c2\n",
    "\n",
    "solution = Solution()\n",
    "a = solution.middleNode(a)\n",
    "\n",
    "print(\"Middle value : \", a.val)"
   ]
  }
 ],
 "metadata": {
  "kernelspec": {
   "display_name": "zeus",
   "language": "python",
   "name": "python3"
  },
  "language_info": {
   "codemirror_mode": {
    "name": "ipython",
    "version": 3
   },
   "file_extension": ".py",
   "mimetype": "text/x-python",
   "name": "python",
   "nbconvert_exporter": "python",
   "pygments_lexer": "ipython3",
   "version": "3.11.5"
  }
 },
 "nbformat": 4,
 "nbformat_minor": 2
}
