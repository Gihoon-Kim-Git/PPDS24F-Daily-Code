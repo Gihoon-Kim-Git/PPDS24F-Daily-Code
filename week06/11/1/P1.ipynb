{
 "cells": [
  {
   "cell_type": "code",
   "execution_count": 6,
   "metadata": {},
   "outputs": [],
   "source": [
    "def solution(S : str) -> int:\n",
    "    st = []\n",
    "    for char in S:\n",
    "        if char in \"({[\":\n",
    "            st.append(char)\n",
    "        elif char in \")}]\":\n",
    "            if not st or (st[-1] == '(' and char != ')') or (st[-1] == '{' and char != '}') or (st[-1] == '[' and char != ']'):\n",
    "                return 0\n",
    "            else:\n",
    "                st.pop()\n",
    "    return 1 if not st else 0"
   ]
  },
  {
   "cell_type": "code",
   "execution_count": 12,
   "metadata": {},
   "outputs": [
    {
     "data": {
      "text/plain": [
       "1"
      ]
     },
     "execution_count": 12,
     "metadata": {},
     "output_type": "execute_result"
    }
   ],
   "source": [
    "solution(\"{{{{(){{}}}}}}\")"
   ]
  },
  {
   "cell_type": "code",
   "execution_count": null,
   "metadata": {},
   "outputs": [],
   "source": []
  }
 ],
 "metadata": {
  "kernelspec": {
   "display_name": "zeus",
   "language": "python",
   "name": "python3"
  },
  "language_info": {
   "codemirror_mode": {
    "name": "ipython",
    "version": 3
   },
   "file_extension": ".py",
   "mimetype": "text/x-python",
   "name": "python",
   "nbconvert_exporter": "python",
   "pygments_lexer": "ipython3",
   "version": "3.11.5"
  }
 },
 "nbformat": 4,
 "nbformat_minor": 2
}
