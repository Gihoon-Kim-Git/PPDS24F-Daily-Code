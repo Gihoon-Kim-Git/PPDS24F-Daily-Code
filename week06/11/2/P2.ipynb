{
 "cells": [
  {
   "cell_type": "code",
   "execution_count": 23,
   "metadata": {},
   "outputs": [],
   "source": [
    "def solution(A:list) -> list:\n",
    "    n = len(A)\n",
    "    if n == 0:\n",
    "        return 0\n",
    "    elif n == 1:\n",
    "        return A[0]\n",
    "    elif n == 2:\n",
    "        return A[0] + A[1]\n",
    "    \n",
    "    dp = [0] * n\n",
    "    dp[0] = A[0]\n",
    "    dp[1] = A[0] + A[1]\n",
    "    \n",
    "    for i in range(2, n):\n",
    "        if(i <= 6):\n",
    "            dp[i] = max(dp[0:i]) + A[i]\n",
    "        else:\n",
    "            dp[i] = max(dp[i-6:i])+A[i]\n",
    "    \n",
    "    return dp[n-1]"
   ]
  },
  {
   "cell_type": "code",
   "execution_count": 24,
   "metadata": {},
   "outputs": [
    {
     "name": "stdout",
     "output_type": "stream",
     "text": [
      "8\n"
     ]
    }
   ],
   "source": [
    "A = [1,-2, 0, 9, -1, -2]\n",
    "result = solution(A)\n",
    "print(result) "
   ]
  },
  {
   "cell_type": "code",
   "execution_count": null,
   "metadata": {},
   "outputs": [],
   "source": []
  }
 ],
 "metadata": {
  "kernelspec": {
   "display_name": "zeus",
   "language": "python",
   "name": "python3"
  },
  "language_info": {
   "codemirror_mode": {
    "name": "ipython",
    "version": 3
   },
   "file_extension": ".py",
   "mimetype": "text/x-python",
   "name": "python",
   "nbconvert_exporter": "python",
   "pygments_lexer": "ipython3",
   "version": "3.11.5"
  }
 },
 "nbformat": 4,
 "nbformat_minor": 2
}
