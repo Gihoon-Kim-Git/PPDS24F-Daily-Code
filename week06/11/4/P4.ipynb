{
 "cells": [
  {
   "cell_type": "code",
   "execution_count": 3,
   "metadata": {},
   "outputs": [],
   "source": [
    "class Solution:\n",
    "    def reverseBits(self, n: int) -> int:\n",
    "        n = format(n, 'b')\n",
    "        n = n.zfill(32) # 지정 길이만큼 0을 채워주는 함수  \n",
    "        return int(n[::-1], 2)"
   ]
  },
  {
   "cell_type": "code",
   "execution_count": 41,
   "metadata": {},
   "outputs": [
    {
     "name": "stdout",
     "output_type": "stream",
     "text": [
      "Input binary string: 11111111111111111111111111111101\n",
      "Input integer: 4294967293\n",
      "Result: 3221225471\n"
     ]
    }
   ],
   "source": [
    "s = Solution()\n",
    "binary_string = \"11111111111111111111111111111101\"\n",
    "n = int(binary_string, 2)  # 이진 문자열을 정수로 변환\n",
    "print(f\"Input binary string: {binary_string}\")\n",
    "print(f\"Input integer: {n}\")\n",
    "print(\"Result:\", s.reverseBits(n)) "
   ]
  },
  {
   "cell_type": "code",
   "execution_count": 42,
   "metadata": {},
   "outputs": [
    {
     "name": "stdout",
     "output_type": "stream",
     "text": [
      "4294967293\n"
     ]
    }
   ],
   "source": [
    "def bitcal(n):\n",
    "    ans = 0\n",
    "    for i in range(32):\n",
    "        re = n % 10\n",
    "        ans += re * (2 ** i)\n",
    "        n = n // 10\n",
    "    return ans\n",
    "\n",
    "\n",
    "print(bitcal(11111111111111111111111111111101))"
   ]
  },
  {
   "cell_type": "code",
   "execution_count": null,
   "metadata": {},
   "outputs": [],
   "source": []
  }
 ],
 "metadata": {
  "kernelspec": {
   "display_name": "zeus",
   "language": "python",
   "name": "python3"
  },
  "language_info": {
   "codemirror_mode": {
    "name": "ipython",
    "version": 3
   },
   "file_extension": ".py",
   "mimetype": "text/x-python",
   "name": "python",
   "nbconvert_exporter": "python",
   "pygments_lexer": "ipython3",
   "version": "3.11.5"
  }
 },
 "nbformat": 4,
 "nbformat_minor": 2
}
