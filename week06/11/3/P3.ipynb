{
 "cells": [
  {
   "cell_type": "code",
   "execution_count": 1,
   "metadata": {},
   "outputs": [],
   "source": [
    "class TreeNode:\n",
    "    def __init__(self, val=0, left=None, right=None):\n",
    "        self.val = val\n",
    "        self.left = left\n",
    "        self.right = right\n",
    "\n",
    "class Solution:\n",
    "    def sumOfLeftLeaves(self, root: TreeNode) -> int:\n",
    "        return self.help(root)\n",
    "        \n",
    "    def help(self, cur, par=None):\n",
    "        if not cur:\n",
    "            return 0\n",
    "        if not cur.left and not cur.right and par and cur == par.left:\n",
    "            return cur.val\n",
    "        return self.help(cur.left, cur) + self.help(cur.right, cur)"
   ]
  },
  {
   "cell_type": "code",
   "execution_count": 2,
   "metadata": {},
   "outputs": [
    {
     "name": "stdout",
     "output_type": "stream",
     "text": [
      "0\n",
      "2\n",
      "24\n",
      "7\n",
      "0\n"
     ]
    }
   ],
   "source": [
    "def test():\n",
    "    sol = Solution()\n",
    "    \n",
    "    # Test Case 1: 트리가 비어있는 경우 (빈 노드)\n",
    "    root = None\n",
    "    print(sol.sumOfLeftLeaves(root))  # 출력: 0\n",
    "    \n",
    "    # Test Case 2: 왼쪽 리프가 하나만 있는 경우\n",
    "    root = TreeNode(1)\n",
    "    root.left = TreeNode(2)\n",
    "    print(sol.sumOfLeftLeaves(root))  # 출력: 2\n",
    "    \n",
    "    # Test Case 3: 왼쪽과 오른쪽에 각각 리프가 있는 경우\n",
    "    root = TreeNode(3)\n",
    "    root.left = TreeNode(9)\n",
    "    root.right = TreeNode(20, TreeNode(15), TreeNode(7))\n",
    "    print(sol.sumOfLeftLeaves(root))  # 출력: 24 (9 + 15)\n",
    "    \n",
    "    # Test Case 4: 모든 왼쪽 리프가 하나의 경로로 연결된 경우\n",
    "    root = TreeNode(3)\n",
    "    root.left = TreeNode(9)\n",
    "    root.left.left = TreeNode(8)\n",
    "    root.left.left.left = TreeNode(7)\n",
    "    print(sol.sumOfLeftLeaves(root))  # 출력: 7 (가장 아래 왼쪽 리프 노드)\n",
    "    \n",
    "    # Test Case 5: 모든 노드가 왼쪽에만 있지만, 리프 노드는 오른쪽에만 있는 경우\n",
    "    root = TreeNode(3)\n",
    "    root.right = TreeNode(9)\n",
    "    root.right.right = TreeNode(7)\n",
    "    print(sol.sumOfLeftLeaves(root))  # 출력: 0 (왼쪽 리프 없음)\n",
    "\n",
    "test()"
   ]
  }
 ],
 "metadata": {
  "kernelspec": {
   "display_name": "zeus",
   "language": "python",
   "name": "python3"
  },
  "language_info": {
   "codemirror_mode": {
    "name": "ipython",
    "version": 3
   },
   "file_extension": ".py",
   "mimetype": "text/x-python",
   "name": "python",
   "nbconvert_exporter": "python",
   "pygments_lexer": "ipython3",
   "version": "3.11.5"
  }
 },
 "nbformat": 4,
 "nbformat_minor": 2
}
