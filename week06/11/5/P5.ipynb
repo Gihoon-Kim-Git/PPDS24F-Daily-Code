{
 "cells": [
  {
   "cell_type": "code",
   "execution_count": 6,
   "metadata": {},
   "outputs": [],
   "source": [
    "class Solution:\n",
    "    def maxNumberOfBalloons(self, text: str) -> int:\n",
    "        dic = {'b' : 0, 'a' : 0, 'l' : 0, 'o': 0, 'n': 0}\n",
    "        for ch in text:\n",
    "            if ch == 'b':\n",
    "                dic['b'] += 1\n",
    "            elif ch == 'a':\n",
    "                dic['a'] += 1\n",
    "            elif ch == 'l':\n",
    "                dic['l'] += 1\n",
    "            elif ch == 'o':\n",
    "                dic['o'] += 1\n",
    "            elif ch == 'n':\n",
    "                dic['n'] += 1\n",
    "        \n",
    "        return min(dic['b'], dic['a'], dic['l']//2, dic['o']//2, dic['n'])\n"
   ]
  },
  {
   "cell_type": "code",
   "execution_count": 7,
   "metadata": {},
   "outputs": [
    {
     "data": {
      "text/plain": [
       "2"
      ]
     },
     "execution_count": 7,
     "metadata": {},
     "output_type": "execute_result"
    }
   ],
   "source": [
    "s = Solution()\n",
    "text = \"loonbalxballpoon\"\n",
    "s.maxNumberOfBalloons(text)"
   ]
  },
  {
   "cell_type": "code",
   "execution_count": null,
   "metadata": {},
   "outputs": [],
   "source": []
  }
 ],
 "metadata": {
  "kernelspec": {
   "display_name": "zeus",
   "language": "python",
   "name": "python3"
  },
  "language_info": {
   "codemirror_mode": {
    "name": "ipython",
    "version": 3
   },
   "file_extension": ".py",
   "mimetype": "text/x-python",
   "name": "python",
   "nbconvert_exporter": "python",
   "pygments_lexer": "ipython3",
   "version": "3.11.5"
  }
 },
 "nbformat": 4,
 "nbformat_minor": 2
}
